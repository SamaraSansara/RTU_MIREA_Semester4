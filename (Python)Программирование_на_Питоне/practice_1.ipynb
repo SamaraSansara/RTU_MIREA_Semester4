{
  "nbformat": 4,
  "nbformat_minor": 0,
  "metadata": {
    "colab": {
      "provenance": [],
      "authorship_tag": "ABX9TyMkxP1pzrYrmlolR44xiWxQ",
      "include_colab_link": true
    },
    "kernelspec": {
      "name": "python3",
      "display_name": "Python 3"
    },
    "language_info": {
      "name": "python"
    }
  },
  "cells": [
    {
      "cell_type": "markdown",
      "metadata": {
        "id": "view-in-github",
        "colab_type": "text"
      },
      "source": [
        "<a href=\"https://colab.research.google.com/github/SamaraSansara/RTU_MIREA_Semester4/blob/main/Untitled1.ipynb\" target=\"_parent\"><img src=\"https://colab.research.google.com/assets/colab-badge.svg\" alt=\"Open In Colab\"/></a>"
      ]
    },
    {
      "cell_type": "markdown",
      "source": [
        "**Практическое занятие №1**\n",
        "\n",
        "**1. Знакомство с языком**\n",
        "\n",
        "1.1. (уровень сложности: низкий)\n",
        "Запишите число 42 с помощью 10 различных способов, чем разнообразнее, тем лучше. Использовать литеральную запись, без\n",
        "арифметики и функций. В любом варианте должно соблюдаться == 42.\n",
        "\n"
      ],
      "metadata": {
        "id": "aZERgS7JHyTR"
      }
    },
    {
      "cell_type": "code",
      "source": [
        "num1 = 42  # десятичная запись\n",
        "num2 = 0x2A  # шестнадцатеричная система\n",
        "num3 = 0b101010  # двоичная система\n",
        "num4 = 0o52  # восьмеричная система\n",
        "num5 = [[42]][0][0] #Значение из вложенного списка\n",
        "num6 = int(\"42\")\n",
        "num7 = True * 42  # В виде булевого значения, умноженного на 42\n",
        "num8 = bytes([42])[0]  # В виде значения из байтового объекта\n",
        "num9 = (13, 42, 99)[1]  # В виде элемента кортежа\n",
        "\n",
        "#Число через объект Python (через атрибут класса)\n",
        "class A:\n",
        "  x = 42\n",
        "num10 = A.x\n",
        "\n",
        "#Число через объект экземпляра класса\n",
        "class B:\n",
        "  def __init__(self):\n",
        "        self.y = 42\n",
        "b = B()\n",
        "num11 = b.y\n",
        "\n",
        "\n",
        "print(num1, num2, num3, num4, num5, num6, num7, num8, num9, num10, num11)\n",
        "\n",
        "\n"
      ],
      "metadata": {
        "colab": {
          "base_uri": "https://localhost:8080/"
        },
        "id": "VpuhbBb2IGph",
        "outputId": "87bc42c7-b4a9-4751-f847-772a491b42eb"
      },
      "execution_count": null,
      "outputs": [
        {
          "output_type": "stream",
          "name": "stdout",
          "text": [
            "42 42 42 42 42 42 42 42 42 42 42\n"
          ]
        }
      ]
    },
    {
      "cell_type": "markdown",
      "source": [
        "1.2. (уровень сложности: низкий)\n",
        "Есть ли ограничения на диапазон чисел в Питоне? Как насчет чисел с плавающей запятой? Какое максимальное значение вы сумели\n",
        "получить до переполнения?"
      ],
      "metadata": {
        "id": "wRsLA8eRRr7L"
      }
    },
    {
      "cell_type": "code",
      "source": [
        "x = 10**1000\n",
        "print(x)"
      ],
      "metadata": {
        "colab": {
          "base_uri": "https://localhost:8080/"
        },
        "id": "juwV7894Rtm2",
        "outputId": "7aeaeaf7-5250-4bb0-acb5-25fe14a71b6c"
      },
      "execution_count": null,
      "outputs": [
        {
          "output_type": "stream",
          "name": "stdout",
          "text": [
            "10000000000000000000000000000000000000000000000000000000000000000000000000000000000000000000000000000000000000000000000000000000000000000000000000000000000000000000000000000000000000000000000000000000000000000000000000000000000000000000000000000000000000000000000000000000000000000000000000000000000000000000000000000000000000000000000000000000000000000000000000000000000000000000000000000000000000000000000000000000000000000000000000000000000000000000000000000000000000000000000000000000000000000000000000000000000000000000000000000000000000000000000000000000000000000000000000000000000000000000000000000000000000000000000000000000000000000000000000000000000000000000000000000000000000000000000000000000000000000000000000000000000000000000000000000000000000000000000000000000000000000000000000000000000000000000000000000000000000000000000000000000000000000000000000000000000000000000000000000000000000000000000000000000000000000000000000000000000000000000000000000000000000000000000000000000000000000\n"
          ]
        }
      ]
    },
    {
      "cell_type": "markdown",
      "source": [
        "Числа с плавающей запятой (float)\n",
        "\n",
        "Максимальное значение: ~ 1.8 × 10^308\n",
        "\n",
        "Минимальное положительное (не ноль): ~ 2.2 × 10^−308\n",
        "\n",
        "Точность: ~ 15-17 значащих цифр\n",
        "\n",
        "Если превысить 1.8 × 10^308, получим inf (бесконечность)"
      ],
      "metadata": {
        "id": "jMd_d_FRSzEG"
      }
    },
    {
      "cell_type": "code",
      "source": [
        "x = 1.79e308\n",
        "print(x)  # 1.8e+308\n",
        "\n",
        "y = 1.8e308\n",
        "print(y)  # inf (переполнение)\n"
      ],
      "metadata": {
        "colab": {
          "base_uri": "https://localhost:8080/"
        },
        "id": "88aOQHASS-rF",
        "outputId": "2e24e00b-e264-4b31-a23d-a833f55a3de5"
      },
      "execution_count": null,
      "outputs": [
        {
          "output_type": "stream",
          "name": "stdout",
          "text": [
            "1.79e+308\n",
            "inf\n"
          ]
        }
      ]
    },
    {
      "cell_type": "markdown",
      "source": [
        "Комплексные числа (complex)\n",
        "Состоят из двух float: действительная и мнимая часть.\n",
        "Имеют те же ограничения, что float."
      ],
      "metadata": {
        "id": "bXTzZNlUTQ3d"
      }
    },
    {
      "cell_type": "code",
      "source": [
        "c = 1e309 + 2e309j\n",
        "print(c)"
      ],
      "metadata": {
        "colab": {
          "base_uri": "https://localhost:8080/"
        },
        "id": "9pFXkpfxTUGK",
        "outputId": "1def4289-1055-4c2d-8d26-19e4ca9e0bb2"
      },
      "execution_count": null,
      "outputs": [
        {
          "output_type": "stream",
          "name": "stdout",
          "text": [
            "(inf+infj)\n"
          ]
        }
      ]
    },
    {
      "cell_type": "code",
      "source": [
        "import sys\n",
        "\n",
        "# Для int — нет переполнения\n",
        "big_int = 10**999\n",
        "print(len(str(big_int)))  # Число символов в числе\n",
        "\n",
        "# Для float — переполнение\n",
        "big_float = 1.9e308\n",
        "print(big_float)  # inf"
      ],
      "metadata": {
        "colab": {
          "base_uri": "https://localhost:8080/"
        },
        "id": "8dfQhyq5Tq1p",
        "outputId": "9c87173a-cfb0-4c18-ed72-f7954759414d"
      },
      "execution_count": null,
      "outputs": [
        {
          "output_type": "stream",
          "name": "stdout",
          "text": [
            "1000\n",
            "inf\n"
          ]
        }
      ]
    },
    {
      "cell_type": "markdown",
      "source": [
        "Найдите в документации встроенную (builtin) арифметическую функцию, которая возвращает не одно, а два значения разом.\n",
        "\n",
        "\n",
        "Встроенная (builtin) арифметическая функция, которая возвращает два значения одновременно, — это divmod().\n",
        "\n",
        "Описание divmod()\n",
        "Функция divmod(a, b) вычисляет целочисленное деление и остаток от деления одновременно и возвращает их в виде кортежа (q, r), где:\n",
        "\n",
        "q = a // b (частное)\n",
        "r = a % b (остаток)\n",
        "\n",
        "Он полезен,\n",
        "Когда нужно сразу получить и частное, и остаток без двойного вычисления (a // b и a % b по отдельности).\n",
        "При работе с временными интервалами (часы-минуты, минуты-секунды).\n",
        "При работе с массивами и циклическими индексами.\n",
        "Функция divmod() встроенная (builtin), то есть не требует импортов и работает для целых чисел (int) и чисел с плавающей точкой (float). 🚀"
      ],
      "metadata": {
        "id": "Fg0Msvn3UGqR"
      }
    },
    {
      "cell_type": "code",
      "source": [
        "# 10 делим на 3: частное 3, остаток 1\n",
        "result = divmod(10, 3)\n",
        "print(result)  # (3, 1)\n",
        "\n",
        "# Можно распаковать результат\n",
        "quotient, remainder = divmod(10, 3)\n",
        "print(quotient)  # 3\n",
        "print(remainder)  # 1\n"
      ],
      "metadata": {
        "colab": {
          "base_uri": "https://localhost:8080/"
        },
        "id": "gt1Ps_-JVyC5",
        "outputId": "262e6944-2f3b-46ee-c0e6-f37cfd7cbb87"
      },
      "execution_count": null,
      "outputs": [
        {
          "output_type": "stream",
          "name": "stdout",
          "text": [
            "(3, 1)\n",
            "3\n",
            "1\n"
          ]
        }
      ]
    },
    {
      "cell_type": "markdown",
      "source": [
        "C приведенным ниже циклом что-то не так. Как это исправить?\n",
        "Что на самом деле представляет собой 0.1 внутри интерпретатора? Можно ли увидеть его настоящее значение?\n",
        "Поэкспериментируйте.\n"
      ],
      "metadata": {
        "id": "e3oS0EMlWGm6"
      }
    },
    {
      "cell_type": "code",
      "source": [
        "print(repr(0.1))"
      ],
      "metadata": {
        "colab": {
          "base_uri": "https://localhost:8080/"
        },
        "id": "YLYMWUxuZCdB",
        "outputId": "8500c9d1-9fef-4be9-a18c-756577a1af09"
      },
      "execution_count": null,
      "outputs": [
        {
          "output_type": "stream",
          "name": "stdout",
          "text": [
            "0.1\n"
          ]
        }
      ]
    },
    {
      "cell_type": "code",
      "source": [
        "a = 10.0\n",
        "epsilon = 1e-10  # Маленькое значение для сравнения\n",
        "while a > epsilon:  # Сравниваем с epsilon вместо 0\n",
        "    a -= 0.1"
      ],
      "metadata": {
        "id": "SaEr0xSNZYCO"
      },
      "execution_count": null,
      "outputs": []
    },
    {
      "cell_type": "markdown",
      "source": [
        "А вот совсем уже безобидный код. Циклов нет, но программа зависает. Почему?"
      ],
      "metadata": {
        "id": "_ZNqEl3pZg95"
      }
    },
    {
      "cell_type": "code",
      "source": [
        "z = 1\n",
        "z <<= 40  # Сдвиг влево на 40 бит (эквивалентно z = 1 * 2**40)\n",
        "2 ** z    # Вычисляет 2 в степени z\n",
        "\n",
        "\n",
        "#z <<= 40 эквивалентно z = 1 * 2**40, т.е. z = 1 099 511 627 776.\n",
        "#Затем Python пытается вычислить 2 ** 1 099 511 627 776.\n",
        "#Число 2 ** z становится огромным — гораздо больше, чем разумный предел даже для Python\n",
        "#В Python int имеет неограниченную длину, но вычисление 2 ** (1_099_511_627_776) требует чудовищных вычислительных ресурсов и памяти.\n",
        "#Операция возведения в такую большую степень требует экспоненциального количества бит, что приводит к зависанию программы."
      ],
      "metadata": {
        "id": "MK8gNAWHZpFz"
      },
      "execution_count": null,
      "outputs": []
    },
    {
      "cell_type": "markdown",
      "source": [
        "Да-да, и этот код зацикливается! А тут-то что не так?"
      ],
      "metadata": {
        "id": "0TCARE_bdMBD"
      }
    },
    {
      "cell_type": "code",
      "source": [
        "i = 0\n",
        "while i < 10:\n",
        " print(i)\n",
        " ++i\n",
        "\n",
        "#++i — это не операция инкремента, как в других языках (например, в C++ или Java).\n",
        "#В Python выражение ++i эквивалентно просто i, потому что:\n",
        "#Первый + — это унарный оператор, который просто возвращает значение переменной (без изменения знака).\n",
        "#Второй + — это тоже унарный оператор, возвращающий значение переменной (то же самое).\n",
        "#Таким образом, ++i фактически не изменяет значение переменной.\n",
        "\n",
        "#значально i = 0.\n",
        "#В цикле ++i просто возвращает i без изменений, и цикл продолжается, потому что i никогда не увеличивается.\n",
        "#Следовательно, программа будет бесконечно выводить 0."
      ],
      "metadata": {
        "id": "UJ2bvzeIdmfC"
      },
      "execution_count": null,
      "outputs": []
    },
    {
      "cell_type": "markdown",
      "source": [
        "Что за странное выражение и странный результат?"
      ],
      "metadata": {
        "id": "ThI4eaIleLGT"
      }
    },
    {
      "cell_type": "code",
      "source": [
        "(True * 2 + False) * -True"
      ],
      "metadata": {
        "id": "ThXviheWfSbl"
      },
      "execution_count": null,
      "outputs": []
    },
    {
      "cell_type": "markdown",
      "source": [
        "В Python True и False можно трактовать как целые числа:\n",
        "True — это 1.\n",
        "False — это 0.\n",
        "\n",
        "1. True * 2 → 1 * 2 = 2.\n",
        "2. 2 + False → 2 + 0 = 2.\n",
        "3. -True → -1.\n",
        "4. 2 * -1 = -2."
      ],
      "metadata": {
        "id": "Acx9urtmfTiZ"
      }
    },
    {
      "cell_type": "markdown",
      "source": [
        "В Питоне можно использовать цепочки операций сравнения. Рассмотрите следующие примеры и попробуйте объяснить код:"
      ],
      "metadata": {
        "id": "3yJJLMNDfrRH"
      }
    },
    {
      "cell_type": "code",
      "source": [
        "x = 5\n",
        "1 < x < 10"
      ],
      "metadata": {
        "id": "obuiYfxFfugJ"
      },
      "execution_count": null,
      "outputs": []
    },
    {
      "cell_type": "markdown",
      "source": [
        "В Python можно записывать выражения вроде a < b < c, что эквивалентно выражению a < b and b < c.\n",
        "\n",
        "1 < 5 — это True.\n",
        "\n",
        "5 < 10 — это тоже True.\n",
        "\n",
        "Так как оба условия истинны, результат всей цепочки сравнения будет True."
      ],
      "metadata": {
        "id": "p53B_sZtgNuz"
      }
    },
    {
      "cell_type": "code",
      "source": [
        "x = 5\n",
        "1 < (x < 10)"
      ],
      "metadata": {
        "id": "hdAYFaQ5f0ah"
      },
      "execution_count": null,
      "outputs": []
    },
    {
      "cell_type": "markdown",
      "source": [
        "Сначала выполняется сравнение x < 10, что даёт True, так как 5 < 10.\n",
        "После этого сравниваем 1 < True.\n",
        "\n",
        "В Python значение True интерпретируется как 1 (это целое число).\n",
        "\n",
        "Таким образом, выполняется сравнение 1 < 1, которое даёт False.\n",
        "\n",
        "В итоге результат выражения будет False."
      ],
      "metadata": {
        "id": "__GQ-WlRf1NT"
      }
    },
    {
      "cell_type": "markdown",
      "source": [
        "**2. Сообщения об ошибках**"
      ],
      "metadata": {
        "id": "a5MoA90Egm6V"
      }
    },
    {
      "cell_type": "markdown",
      "source": [
        "2.1. (уровень сложности: простейший)\n",
        "SyntaxError: invalid syntax"
      ],
      "metadata": {
        "id": "2nFVOh23goTB"
      }
    },
    {
      "cell_type": "code",
      "source": [
        "if 5 > 3\n",
        "    print(\"Hello\")\n"
      ],
      "metadata": {
        "colab": {
          "base_uri": "https://localhost:8080/",
          "height": 108
        },
        "id": "xKl8zDcjgtWV",
        "outputId": "e233eb32-51ea-438b-9204-6febf5f105fb"
      },
      "execution_count": 1,
      "outputs": [
        {
          "output_type": "error",
          "ename": "SyntaxError",
          "evalue": "expected ':' (<ipython-input-1-a550ed740297>, line 1)",
          "traceback": [
            "\u001b[0;36m  File \u001b[0;32m\"<ipython-input-1-a550ed740297>\"\u001b[0;36m, line \u001b[0;32m1\u001b[0m\n\u001b[0;31m    if 5 > 3\u001b[0m\n\u001b[0m            ^\u001b[0m\n\u001b[0;31mSyntaxError\u001b[0m\u001b[0;31m:\u001b[0m expected ':'\n"
          ]
        }
      ]
    },
    {
      "cell_type": "markdown",
      "source": [
        "В Python после условия в блоке if обязательно должна быть двоеточие (:)."
      ],
      "metadata": {
        "id": "wLXjmDSfg4N3"
      }
    },
    {
      "cell_type": "markdown",
      "source": [
        "2.2. (уровень сложности: простейший)\n",
        "SyntaxError: cannot assign to literal"
      ],
      "metadata": {
        "id": "7tPToKEZg8Hc"
      }
    },
    {
      "cell_type": "code",
      "source": [
        "a=2, b=5"
      ],
      "metadata": {
        "colab": {
          "base_uri": "https://localhost:8080/",
          "height": 108
        },
        "id": "VKCHSlwyh1uC",
        "outputId": "eefeed80-dd1d-4dd9-c51f-0e4c7f833d8d"
      },
      "execution_count": 3,
      "outputs": [
        {
          "output_type": "error",
          "ename": "SyntaxError",
          "evalue": "invalid syntax. Maybe you meant '==' or ':=' instead of '='? (<ipython-input-3-45cf05895129>, line 1)",
          "traceback": [
            "\u001b[0;36m  File \u001b[0;32m\"<ipython-input-3-45cf05895129>\"\u001b[0;36m, line \u001b[0;32m1\u001b[0m\n\u001b[0;31m    a=2, b=5\u001b[0m\n\u001b[0m    ^\u001b[0m\n\u001b[0;31mSyntaxError\u001b[0m\u001b[0;31m:\u001b[0m invalid syntax. Maybe you meant '==' or ':=' instead of '='?\n"
          ]
        }
      ]
    },
    {
      "cell_type": "markdown",
      "source": [
        "2.3. (уровень сложности: простейший)\n",
        "NameError: name ... is not defined"
      ],
      "metadata": {
        "id": "8fnDtulAj0BO"
      }
    },
    {
      "cell_type": "code",
      "source": [
        "print(x)\n"
      ],
      "metadata": {
        "colab": {
          "base_uri": "https://localhost:8080/",
          "height": 144
        },
        "id": "9TLliDKWj2M0",
        "outputId": "2e5d52dd-dad2-4d60-b650-90e7d705f767"
      },
      "execution_count": 4,
      "outputs": [
        {
          "output_type": "error",
          "ename": "NameError",
          "evalue": "name 'x' is not defined",
          "traceback": [
            "\u001b[0;31m---------------------------------------------------------------------------\u001b[0m",
            "\u001b[0;31mNameError\u001b[0m                                 Traceback (most recent call last)",
            "\u001b[0;32m<ipython-input-4-fc17d851ef81>\u001b[0m in \u001b[0;36m<cell line: 0>\u001b[0;34m()\u001b[0m\n\u001b[0;32m----> 1\u001b[0;31m \u001b[0mprint\u001b[0m\u001b[0;34m(\u001b[0m\u001b[0mx\u001b[0m\u001b[0;34m)\u001b[0m\u001b[0;34m\u001b[0m\u001b[0;34m\u001b[0m\u001b[0m\n\u001b[0m",
            "\u001b[0;31mNameError\u001b[0m: name 'x' is not defined"
          ]
        }
      ]
    },
    {
      "cell_type": "markdown",
      "source": [
        "2.4. (уровень сложности: простейший)\n",
        "SyntaxError: unterminated string literal"
      ],
      "metadata": {
        "id": "ZXK2oVzaj7p_"
      }
    },
    {
      "cell_type": "code",
      "source": [
        "s = \"Hello\n"
      ],
      "metadata": {
        "colab": {
          "base_uri": "https://localhost:8080/",
          "height": 108
        },
        "id": "74EIaaaUj_4U",
        "outputId": "c930d2fd-82a4-486e-ea76-d115d09ddd81"
      },
      "execution_count": 5,
      "outputs": [
        {
          "output_type": "error",
          "ename": "SyntaxError",
          "evalue": "unterminated string literal (detected at line 1) (<ipython-input-5-e1383668163a>, line 1)",
          "traceback": [
            "\u001b[0;36m  File \u001b[0;32m\"<ipython-input-5-e1383668163a>\"\u001b[0;36m, line \u001b[0;32m1\u001b[0m\n\u001b[0;31m    s = \"Hello\u001b[0m\n\u001b[0m        ^\u001b[0m\n\u001b[0;31mSyntaxError\u001b[0m\u001b[0;31m:\u001b[0m unterminated string literal (detected at line 1)\n"
          ]
        }
      ]
    },
    {
      "cell_type": "markdown",
      "source": [
        "2.5. (уровень сложности: простейший)\n",
        "TypeError: unsupported operand type(s) for ..."
      ],
      "metadata": {
        "id": "-wUG2nBtkD9-"
      }
    },
    {
      "cell_type": "code",
      "source": [
        "x = \"Hello\"\n",
        "y = 5\n",
        "z = x + y\n"
      ],
      "metadata": {
        "colab": {
          "base_uri": "https://localhost:8080/",
          "height": 180
        },
        "id": "nGr6EJoakGa5",
        "outputId": "49f86967-d921-465b-c0aa-5868a870b4f3"
      },
      "execution_count": 6,
      "outputs": [
        {
          "output_type": "error",
          "ename": "TypeError",
          "evalue": "can only concatenate str (not \"int\") to str",
          "traceback": [
            "\u001b[0;31m---------------------------------------------------------------------------\u001b[0m",
            "\u001b[0;31mTypeError\u001b[0m                                 Traceback (most recent call last)",
            "\u001b[0;32m<ipython-input-6-25ba3f7b5201>\u001b[0m in \u001b[0;36m<cell line: 0>\u001b[0;34m()\u001b[0m\n\u001b[1;32m      1\u001b[0m \u001b[0mx\u001b[0m \u001b[0;34m=\u001b[0m \u001b[0;34m\"Hello\"\u001b[0m\u001b[0;34m\u001b[0m\u001b[0;34m\u001b[0m\u001b[0m\n\u001b[1;32m      2\u001b[0m \u001b[0my\u001b[0m \u001b[0;34m=\u001b[0m \u001b[0;36m5\u001b[0m\u001b[0;34m\u001b[0m\u001b[0;34m\u001b[0m\u001b[0m\n\u001b[0;32m----> 3\u001b[0;31m \u001b[0mz\u001b[0m \u001b[0;34m=\u001b[0m \u001b[0mx\u001b[0m \u001b[0;34m+\u001b[0m \u001b[0my\u001b[0m\u001b[0;34m\u001b[0m\u001b[0;34m\u001b[0m\u001b[0m\n\u001b[0m",
            "\u001b[0;31mTypeError\u001b[0m: can only concatenate str (not \"int\") to str"
          ]
        }
      ]
    },
    {
      "cell_type": "markdown",
      "source": [
        "2.6. (уровень сложности: простейший)\n",
        "IndentationError: expected an indented block"
      ],
      "metadata": {
        "id": "Qlpbdqnukf14"
      }
    },
    {
      "cell_type": "code",
      "source": [
        " if True:\n",
        "print(\"Hello\")\n"
      ],
      "metadata": {
        "colab": {
          "base_uri": "https://localhost:8080/",
          "height": 108
        },
        "id": "DMwAY8fZkiiS",
        "outputId": "6ff65131-070f-4b57-dbc5-ce859e095e30"
      },
      "execution_count": 7,
      "outputs": [
        {
          "output_type": "error",
          "ename": "IndentationError",
          "evalue": "expected an indented block after 'if' statement on line 1 (<ipython-input-7-ce972da5c0a6>, line 2)",
          "traceback": [
            "\u001b[0;36m  File \u001b[0;32m\"<ipython-input-7-ce972da5c0a6>\"\u001b[0;36m, line \u001b[0;32m2\u001b[0m\n\u001b[0;31m    print(\"Hello\")\u001b[0m\n\u001b[0m    ^\u001b[0m\n\u001b[0;31mIndentationError\u001b[0m\u001b[0;31m:\u001b[0m expected an indented block after 'if' statement on line 1\n"
          ]
        }
      ]
    },
    {
      "cell_type": "markdown",
      "source": [
        "2.7. (уровень сложности: простейший)\n",
        "IndentationError: unindent does not match any outer indentation level"
      ],
      "metadata": {
        "id": "6kw8RanWkx2v"
      }
    },
    {
      "cell_type": "code",
      "source": [
        "if True:\n",
        "    print(\"Hello\")\n",
        "  print(\"World\")\n"
      ],
      "metadata": {
        "colab": {
          "base_uri": "https://localhost:8080/",
          "height": 108
        },
        "id": "VTanfACmkyG5",
        "outputId": "75976e2b-422a-4ee0-98d7-c0361a96804f"
      },
      "execution_count": 9,
      "outputs": [
        {
          "output_type": "error",
          "ename": "IndentationError",
          "evalue": "unindent does not match any outer indentation level (<tokenize>, line 3)",
          "traceback": [
            "\u001b[0;36m  File \u001b[0;32m\"<tokenize>\"\u001b[0;36m, line \u001b[0;32m3\u001b[0m\n\u001b[0;31m    print(\"World\")\u001b[0m\n\u001b[0m    ^\u001b[0m\n\u001b[0;31mIndentationError\u001b[0m\u001b[0;31m:\u001b[0m unindent does not match any outer indentation level\n"
          ]
        }
      ]
    },
    {
      "cell_type": "markdown",
      "source": [
        "2.8. (уровень сложности: простейший)\n",
        "ValueError: math domain error"
      ],
      "metadata": {
        "id": "D8tCq3r6k3pN"
      }
    },
    {
      "cell_type": "code",
      "source": [
        "import math\n",
        "math.sqrt(-1)\n"
      ],
      "metadata": {
        "colab": {
          "base_uri": "https://localhost:8080/",
          "height": 162
        },
        "id": "_8-dQEI2k7OD",
        "outputId": "986b6105-c8d3-40fe-ceca-df934700a220"
      },
      "execution_count": 10,
      "outputs": [
        {
          "output_type": "error",
          "ename": "ValueError",
          "evalue": "math domain error",
          "traceback": [
            "\u001b[0;31m---------------------------------------------------------------------------\u001b[0m",
            "\u001b[0;31mValueError\u001b[0m                                Traceback (most recent call last)",
            "\u001b[0;32m<ipython-input-10-8956a835fc63>\u001b[0m in \u001b[0;36m<cell line: 0>\u001b[0;34m()\u001b[0m\n\u001b[1;32m      1\u001b[0m \u001b[0;32mimport\u001b[0m \u001b[0mmath\u001b[0m\u001b[0;34m\u001b[0m\u001b[0;34m\u001b[0m\u001b[0m\n\u001b[0;32m----> 2\u001b[0;31m \u001b[0mmath\u001b[0m\u001b[0;34m.\u001b[0m\u001b[0msqrt\u001b[0m\u001b[0;34m(\u001b[0m\u001b[0;34m-\u001b[0m\u001b[0;36m1\u001b[0m\u001b[0;34m)\u001b[0m\u001b[0;34m\u001b[0m\u001b[0;34m\u001b[0m\u001b[0m\n\u001b[0m",
            "\u001b[0;31mValueError\u001b[0m: math domain error"
          ]
        }
      ]
    },
    {
      "cell_type": "markdown",
      "source": [
        "2.9. (уровень сложности: простейший)\n",
        "OverflowError: math range error"
      ],
      "metadata": {
        "id": "84PkTPUYlAyq"
      }
    },
    {
      "cell_type": "code",
      "source": [
        "import math\n",
        "math.exp(1000)\n"
      ],
      "metadata": {
        "colab": {
          "base_uri": "https://localhost:8080/",
          "height": 162
        },
        "id": "guQA_DW0lC-i",
        "outputId": "f3432458-df70-4a35-e6f8-f33145481b41"
      },
      "execution_count": 11,
      "outputs": [
        {
          "output_type": "error",
          "ename": "OverflowError",
          "evalue": "math range error",
          "traceback": [
            "\u001b[0;31m---------------------------------------------------------------------------\u001b[0m",
            "\u001b[0;31mOverflowError\u001b[0m                             Traceback (most recent call last)",
            "\u001b[0;32m<ipython-input-11-31519c491d10>\u001b[0m in \u001b[0;36m<cell line: 0>\u001b[0;34m()\u001b[0m\n\u001b[1;32m      1\u001b[0m \u001b[0;32mimport\u001b[0m \u001b[0mmath\u001b[0m\u001b[0;34m\u001b[0m\u001b[0;34m\u001b[0m\u001b[0m\n\u001b[0;32m----> 2\u001b[0;31m \u001b[0mmath\u001b[0m\u001b[0;34m.\u001b[0m\u001b[0mexp\u001b[0m\u001b[0;34m(\u001b[0m\u001b[0;36m1000\u001b[0m\u001b[0;34m)\u001b[0m\u001b[0;34m\u001b[0m\u001b[0;34m\u001b[0m\u001b[0m\n\u001b[0m",
            "\u001b[0;31mOverflowError\u001b[0m: math range error"
          ]
        }
      ]
    },
    {
      "cell_type": "markdown",
      "source": [
        "**3. Арифметика**"
      ],
      "metadata": {
        "id": "W3oTqAKclSeZ"
      }
    },
    {
      "cell_type": "markdown",
      "source": [
        "Мир микропроцессоров не ограничивается только большими чипами для настольных применений. Маломощные\n",
        "микроконтроллеры могут выступать в роли умных датчиков в задачах, связанных с Интернетом вещей. Слабенькие 8-битные\n",
        "микропроцессоры являлись «сердцем» многих классических игровых приставок. Типичный 8-битный процессор не имеет\n",
        "аппаратной поддержки умножения. Как же выкручиваются программисты в этой ситуации?\n",
        "Представим, что в Питоне тоже отсутствует операция умножения. Ее можно заменить сложением. Если мы хотим умножить какое-то\n",
        "число x на 12, то нам понадобится 11 сложений, правильно? Это довольно много, но, оказывается, можно обойтись и меньшим\n",
        "числом сложений.\n",
        "Из арифметических операций разрешается использовать только явно указанные и в указанном количестве. Входным аргументом\n",
        "является переменная x. Унарный минус использовать нельзя. Тело программы должно состоять из линейной последовательности\n",
        "присваиваний. Оформите линейный код решения в виде функции."
      ],
      "metadata": {
        "id": "H2I9j0QMlYef"
      }
    },
    {
      "cell_type": "markdown",
      "source": [
        "3.1. (уровень сложности: низкий)\n",
        "Умножение на 12. Используйте 4 сложения."
      ],
      "metadata": {
        "id": "y-raKRsalaC1"
      }
    },
    {
      "cell_type": "code",
      "source": [
        "def multiply_by_12(x):\n",
        "    a = x + x        # 2 * x\n",
        "    b = a + a        # 4 * x\n",
        "    c = b + b        # 8 * x\n",
        "    result = c + b   # 8 * x + 4 * x = 12 * x\n",
        "    return result\n",
        "\n",
        "# Пример использования\n",
        "x = 5\n",
        "print(multiply_by_12(x))  # Выводим результат\n"
      ],
      "metadata": {
        "colab": {
          "base_uri": "https://localhost:8080/"
        },
        "id": "2rgSVIJJl8Qz",
        "outputId": "5d43c71d-1ab7-480c-fdea-dd21aa3fba5f"
      },
      "execution_count": 20,
      "outputs": [
        {
          "output_type": "stream",
          "name": "stdout",
          "text": [
            "60\n"
          ]
        }
      ]
    },
    {
      "cell_type": "markdown",
      "source": [],
      "metadata": {
        "id": "oGRJa_Zkma-8"
      }
    },
    {
      "cell_type": "code",
      "source": [
        "def multiply_by_16(x):\n",
        "    a = x + x        # 2 * x\n",
        "    b = a + a        # 4 * x\n",
        "    c = b + b        # 8 * x\n",
        "    result = c + c   # 8 * x + 8 * x = 16 * x\n",
        "    return result\n"
      ],
      "metadata": {
        "id": "A0eSqbvwme7O"
      },
      "execution_count": 21,
      "outputs": []
    }
  ]
}
